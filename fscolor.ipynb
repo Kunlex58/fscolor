{
 "cells": [
  {
   "cell_type": "markdown",
   "id": "1ba3315b-38c6-4bde-b1d8-b73074d75f13",
   "metadata": {},
   "source": [
    "## fscolor - F-String Color Formatting for Python Use Cases"
   ]
  },
  {
   "cell_type": "markdown",
   "id": "75e05ff6-256f-4098-809d-cea42a1379d0",
   "metadata": {},
   "source": [
    "### Basic Usage"
   ]
  },
  {
   "cell_type": "code",
   "execution_count": 1,
   "id": "d40f37ec-ac67-436c-b051-ea7ae7860d58",
   "metadata": {},
   "outputs": [
    {
     "name": "stdout",
     "output_type": "stream",
     "text": [
      "Hello, \u001b[31mKunlexy\u001b[0m! \u001b[32mWelcome\u001b[0m to \u001b[34mPython\u001b[0m coloring!\n"
     ]
    }
   ],
   "source": [
    "from fscolor import red, green, blue, yellow\n",
    "\n",
    "name = \"Kunlexy\"\n",
    "print(f\"Hello, {red(name)}! {green('Welcome')} to {blue('Python')} coloring!\")"
   ]
  },
  {
   "cell_type": "code",
   "execution_count": null,
   "id": "0144c393-7b73-4e35-bb95-aacd93094595",
   "metadata": {},
   "outputs": [],
   "source": []
  },
  {
   "cell_type": "code",
   "execution_count": 3,
   "id": "e791cb1b-b50b-4922-841c-903f7c8ea5d1",
   "metadata": {},
   "outputs": [
    {
     "name": "stdout",
     "output_type": "stream",
     "text": [
      "\u001b[31mAlert\u001b[0m: \u001b[32mSystem\u001b[0m is \u001b[34moperational\u001b[0m\n",
      "Welcome, \u001b[33mBusie\u001b[0m!\n"
     ]
    }
   ],
   "source": [
    "# Simple text coloring\n",
    "print(f\"{red('Alert')}: {green('System')} is {blue('operational')}\")\n",
    "\n",
    "# Variable integration\n",
    "username = \"Busie\"\n",
    "print(f\"Welcome, {yellow(username)}!\")\n"
   ]
  },
  {
   "cell_type": "code",
   "execution_count": null,
   "id": "b95bec08-c9aa-4ee5-bdef-c4e9fba07177",
   "metadata": {},
   "outputs": [],
   "source": []
  },
  {
   "cell_type": "markdown",
   "id": "4c4d5378-28c7-4b7a-85d6-61dd41f5a59b",
   "metadata": {},
   "source": [
    "### Advanced Examples"
   ]
  },
  {
   "cell_type": "code",
   "execution_count": null,
   "id": "4b07a436-e5c5-46df-aad2-f06bf2dda5ec",
   "metadata": {},
   "outputs": [],
   "source": []
  },
  {
   "cell_type": "markdown",
   "id": "4f6eefec-e53a-4aad-925f-0e49d9487b93",
   "metadata": {},
   "source": [
    "#### *Status Message*"
   ]
  },
  {
   "cell_type": "code",
   "execution_count": 5,
   "id": "6e5eadb8-8106-4610-a15d-4eac33225c28",
   "metadata": {},
   "outputs": [
    {
     "name": "stdout",
     "output_type": "stream",
     "text": [
      "[\u001b[31mERROR\u001b[0m] Connection timeout\n"
     ]
    }
   ],
   "source": [
    "status = \"ERROR\"\n",
    "message = \"Connection timeout\"\n",
    "\n",
    "print(f\"[{green('OK') if status == 'OK' else red(status)}] {message}\")"
   ]
  },
  {
   "cell_type": "markdown",
   "id": "9da706d0-37ce-4e89-af12-ee8f6cdf5b02",
   "metadata": {},
   "source": [
    "#### *Progress Bar*"
   ]
  },
  {
   "cell_type": "code",
   "execution_count": 7,
   "id": "39c7b9f0-8310-410a-bc72-c339bc86c289",
   "metadata": {},
   "outputs": [
    {
     "name": "stdout",
     "output_type": "stream",
     "text": [
      "Downloading: [\u001b[36m#######\u001b[0m\u001b[35m...\u001b[0m] 75%\n"
     ]
    }
   ],
   "source": [
    "from fscolor import cyan, magenta\n",
    "\n",
    "progress = 75\n",
    "print(f\"Downloading: [{cyan('#'*int(progress/10))}{magenta('.'*(10-int(progress/10)))}] {progress}%\")"
   ]
  },
  {
   "cell_type": "code",
   "execution_count": null,
   "id": "786b3ea7-b7ed-43d1-9423-a3c6302a462a",
   "metadata": {},
   "outputs": [],
   "source": []
  },
  {
   "cell_type": "code",
   "execution_count": 9,
   "id": "383b088d-37f8-4c2e-8858-24ad7b2b3532",
   "metadata": {},
   "outputs": [
    {
     "name": "stdout",
     "output_type": "stream",
     "text": [
      "\u001b[33mBryan\u001b[0m | \u001b[36m95\u001b[0m | \u001b[34mPASS\u001b[0m\n",
      "\u001b[33mAde\u001b[0m | \u001b[36m42\u001b[0m | \u001b[34mFAIL\u001b[0m\n"
     ]
    }
   ],
   "source": [
    "from fscolor import yellow, cyan, blue\n",
    "\n",
    "data = [\n",
    "    (\"Bryan\", 95, \"PASS\"),\n",
    "    (\"Ade\", 42, \"FAIL\")\n",
    "]\n",
    "\n",
    "for name, score, status in data:\n",
    "    print(f\"{yellow(name):<10} | {cyan(str(score)):>5} | {blue(status)}\")"
   ]
  },
  {
   "cell_type": "code",
   "execution_count": null,
   "id": "54cd6152-cb5f-49d7-ad11-eb0019e11d8e",
   "metadata": {},
   "outputs": [],
   "source": []
  }
 ],
 "metadata": {
  "kernelspec": {
   "display_name": "Python 3 (ipykernel)",
   "language": "python",
   "name": "python3"
  },
  "language_info": {
   "codemirror_mode": {
    "name": "ipython",
    "version": 3
   },
   "file_extension": ".py",
   "mimetype": "text/x-python",
   "name": "python",
   "nbconvert_exporter": "python",
   "pygments_lexer": "ipython3",
   "version": "3.12.7"
  }
 },
 "nbformat": 4,
 "nbformat_minor": 5
}
